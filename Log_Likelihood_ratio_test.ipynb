{
 "cells": [
  {
   "cell_type": "markdown",
   "id": "78a82517-7487-42e2-a0bf-cc410ec37611",
   "metadata": {},
   "source": [
    "The Log Likelihood ratio test is used to compare the goodness of fit from different models. It is specially useful to compare time series models."
   ]
  },
  {
   "cell_type": "code",
   "execution_count": 10,
   "id": "e9b10daf-ac6a-4198-b440-6d25fbc79449",
   "metadata": {},
   "outputs": [],
   "source": [
    "import pandas as pd\n",
    "import numpy as np\n",
    "import matplotlib.pyplot as plt\n",
    "from statsmodels.tsa.arima.model import ARIMA\n",
    "from scipy.stats.distributions import chi2\n",
    "import yfinance as yfin\n",
    "import datetime as dt\n",
    "from pandas_datareader import data as pdr"
   ]
  },
  {
   "cell_type": "markdown",
   "id": "ac88d09b-6fa2-4f3d-81be-bfb528150650",
   "metadata": {},
   "source": [
    "# Importing data "
   ]
  },
  {
   "cell_type": "code",
   "execution_count": 69,
   "id": "5923f638-e7b2-494e-ae19-e5bd5b6bf4cb",
   "metadata": {},
   "outputs": [
    {
     "name": "stdout",
     "output_type": "stream",
     "text": [
      "[*********************100%***********************]  1 of 1 completed\n"
     ]
    }
   ],
   "source": [
    "start = dt.date(2017,12,31)\n",
    "end = dt.date(2022,12,31)\n",
    "\n",
    "tickers = [\"MSFT\"]\n",
    "\n",
    "\n",
    "yfin.pdr_override()\n",
    "df = pd.DataFrame(pdr.get_data_yahoo(tickers, start, end)[\"Adj Close\"])"
   ]
  },
  {
   "cell_type": "markdown",
   "id": "f803bf41-519d-4ca4-a920-a9ca4e9d35f4",
   "metadata": {},
   "source": [
    "Now, we set the frequency:"
   ]
  },
  {
   "cell_type": "code",
   "execution_count": 70,
   "id": "73a02632-766e-4c54-a788-424bfe225240",
   "metadata": {},
   "outputs": [],
   "source": [
    "df.index = pd.DatetimeIndex(df.index).to_period('b')"
   ]
  },
  {
   "cell_type": "markdown",
   "id": "196ac8a9-3463-41b4-ba46-0c237f3277fd",
   "metadata": {},
   "source": [
    "# Running time series models"
   ]
  },
  {
   "cell_type": "code",
   "execution_count": 71,
   "id": "7eeb36bc-a59a-4d10-830b-614d5df5dedf",
   "metadata": {},
   "outputs": [
    {
     "data": {
      "text/html": [
       "<table class=\"simpletable\">\n",
       "<caption>SARIMAX Results</caption>\n",
       "<tr>\n",
       "  <th>Dep. Variable:</th>       <td>Adj Close</td>    <th>  No. Observations:  </th>   <td>1259</td>   \n",
       "</tr>\n",
       "<tr>\n",
       "  <th>Model:</th>            <td>ARIMA(1, 0, 0)</td>  <th>  Log Likelihood     </th> <td>-3478.786</td>\n",
       "</tr>\n",
       "<tr>\n",
       "  <th>Date:</th>            <td>Sun, 21 Jan 2024</td> <th>  AIC                </th> <td>6963.571</td> \n",
       "</tr>\n",
       "<tr>\n",
       "  <th>Time:</th>                <td>11:09:56</td>     <th>  BIC                </th> <td>6978.986</td> \n",
       "</tr>\n",
       "<tr>\n",
       "  <th>Sample:</th>             <td>01-02-2018</td>    <th>  HQIC               </th> <td>6969.364</td> \n",
       "</tr>\n",
       "<tr>\n",
       "  <th></th>                   <td>- 12-30-2022</td>   <th>                     </th>     <td> </td>    \n",
       "</tr>\n",
       "<tr>\n",
       "  <th>Covariance Type:</th>        <td>opg</td>       <th>                     </th>     <td> </td>    \n",
       "</tr>\n",
       "</table>\n",
       "<table class=\"simpletable\">\n",
       "<tr>\n",
       "     <td></td>       <th>coef</th>     <th>std err</th>      <th>z</th>      <th>P>|z|</th>  <th>[0.025</th>    <th>0.975]</th>  \n",
       "</tr>\n",
       "<tr>\n",
       "  <th>const</th>  <td>  188.1884</td> <td>   49.114</td> <td>    3.832</td> <td> 0.000</td> <td>   91.927</td> <td>  284.450</td>\n",
       "</tr>\n",
       "<tr>\n",
       "  <th>ar.L1</th>  <td>    0.9988</td> <td>    0.001</td> <td>  772.070</td> <td> 0.000</td> <td>    0.996</td> <td>    1.001</td>\n",
       "</tr>\n",
       "<tr>\n",
       "  <th>sigma2</th> <td>   14.6384</td> <td>    0.339</td> <td>   43.139</td> <td> 0.000</td> <td>   13.973</td> <td>   15.303</td>\n",
       "</tr>\n",
       "</table>\n",
       "<table class=\"simpletable\">\n",
       "<tr>\n",
       "  <th>Ljung-Box (L1) (Q):</th>     <td>19.81</td> <th>  Jarque-Bera (JB):  </th> <td>852.97</td>\n",
       "</tr>\n",
       "<tr>\n",
       "  <th>Prob(Q):</th>                <td>0.00</td>  <th>  Prob(JB):          </th>  <td>0.00</td> \n",
       "</tr>\n",
       "<tr>\n",
       "  <th>Heteroskedasticity (H):</th> <td>9.20</td>  <th>  Skew:              </th>  <td>-0.23</td>\n",
       "</tr>\n",
       "<tr>\n",
       "  <th>Prob(H) (two-sided):</th>    <td>0.00</td>  <th>  Kurtosis:          </th>  <td>7.01</td> \n",
       "</tr>\n",
       "</table><br/><br/>Warnings:<br/>[1] Covariance matrix calculated using the outer product of gradients (complex-step)."
      ],
      "text/latex": [
       "\\begin{center}\n",
       "\\begin{tabular}{lclc}\n",
       "\\toprule\n",
       "\\textbf{Dep. Variable:}          &    Adj Close     & \\textbf{  No. Observations:  } &    1259     \\\\\n",
       "\\textbf{Model:}                  &  ARIMA(1, 0, 0)  & \\textbf{  Log Likelihood     } & -3478.786   \\\\\n",
       "\\textbf{Date:}                   & Sun, 21 Jan 2024 & \\textbf{  AIC                } &  6963.571   \\\\\n",
       "\\textbf{Time:}                   &     11:09:56     & \\textbf{  BIC                } &  6978.986   \\\\\n",
       "\\textbf{Sample:}                 &    01-02-2018    & \\textbf{  HQIC               } &  6969.364   \\\\\n",
       "\\textbf{}                        &   - 12-30-2022   & \\textbf{                     } &             \\\\\n",
       "\\textbf{Covariance Type:}        &       opg        & \\textbf{                     } &             \\\\\n",
       "\\bottomrule\n",
       "\\end{tabular}\n",
       "\\begin{tabular}{lcccccc}\n",
       "                & \\textbf{coef} & \\textbf{std err} & \\textbf{z} & \\textbf{P$> |$z$|$} & \\textbf{[0.025} & \\textbf{0.975]}  \\\\\n",
       "\\midrule\n",
       "\\textbf{const}  &     188.1884  &       49.114     &     3.832  &         0.000        &       91.927    &      284.450     \\\\\n",
       "\\textbf{ar.L1}  &       0.9988  &        0.001     &   772.070  &         0.000        &        0.996    &        1.001     \\\\\n",
       "\\textbf{sigma2} &      14.6384  &        0.339     &    43.139  &         0.000        &       13.973    &       15.303     \\\\\n",
       "\\bottomrule\n",
       "\\end{tabular}\n",
       "\\begin{tabular}{lclc}\n",
       "\\textbf{Ljung-Box (L1) (Q):}     & 19.81 & \\textbf{  Jarque-Bera (JB):  } & 852.97  \\\\\n",
       "\\textbf{Prob(Q):}                &  0.00 & \\textbf{  Prob(JB):          } &  0.00   \\\\\n",
       "\\textbf{Heteroskedasticity (H):} &  9.20 & \\textbf{  Skew:              } & -0.23   \\\\\n",
       "\\textbf{Prob(H) (two-sided):}    &  0.00 & \\textbf{  Kurtosis:          } &  7.01   \\\\\n",
       "\\bottomrule\n",
       "\\end{tabular}\n",
       "%\\caption{SARIMAX Results}\n",
       "\\end{center}\n",
       "\n",
       "Warnings: \\newline\n",
       " [1] Covariance matrix calculated using the outer product of gradients (complex-step)."
      ],
      "text/plain": [
       "<class 'statsmodels.iolib.summary.Summary'>\n",
       "\"\"\"\n",
       "                               SARIMAX Results                                \n",
       "==============================================================================\n",
       "Dep. Variable:              Adj Close   No. Observations:                 1259\n",
       "Model:                 ARIMA(1, 0, 0)   Log Likelihood               -3478.786\n",
       "Date:                Sun, 21 Jan 2024   AIC                           6963.571\n",
       "Time:                        11:09:56   BIC                           6978.986\n",
       "Sample:                    01-02-2018   HQIC                          6969.364\n",
       "                         - 12-30-2022                                         \n",
       "Covariance Type:                  opg                                         \n",
       "==============================================================================\n",
       "                 coef    std err          z      P>|z|      [0.025      0.975]\n",
       "------------------------------------------------------------------------------\n",
       "const        188.1884     49.114      3.832      0.000      91.927     284.450\n",
       "ar.L1          0.9988      0.001    772.070      0.000       0.996       1.001\n",
       "sigma2        14.6384      0.339     43.139      0.000      13.973      15.303\n",
       "===================================================================================\n",
       "Ljung-Box (L1) (Q):                  19.81   Jarque-Bera (JB):               852.97\n",
       "Prob(Q):                              0.00   Prob(JB):                         0.00\n",
       "Heteroskedasticity (H):               9.20   Skew:                            -0.23\n",
       "Prob(H) (two-sided):                  0.00   Kurtosis:                         7.01\n",
       "===================================================================================\n",
       "\n",
       "Warnings:\n",
       "[1] Covariance matrix calculated using the outer product of gradients (complex-step).\n",
       "\"\"\""
      ]
     },
     "execution_count": 71,
     "metadata": {},
     "output_type": "execute_result"
    }
   ],
   "source": [
    "model_ar_1 = ARIMA(df[\"Adj Close\"], order =(1,0,0))\n",
    "\n",
    "results_ar_1 =model_ar_1.fit()\n",
    "\n",
    "results_ar_1.summary()"
   ]
  },
  {
   "cell_type": "code",
   "execution_count": 72,
   "id": "0e2b6a4b-8957-46c7-b982-52308834b084",
   "metadata": {},
   "outputs": [
    {
     "data": {
      "text/html": [
       "<table class=\"simpletable\">\n",
       "<caption>SARIMAX Results</caption>\n",
       "<tr>\n",
       "  <th>Dep. Variable:</th>       <td>Adj Close</td>    <th>  No. Observations:  </th>   <td>1259</td>   \n",
       "</tr>\n",
       "<tr>\n",
       "  <th>Model:</th>            <td>ARIMA(2, 0, 0)</td>  <th>  Log Likelihood     </th> <td>-3469.106</td>\n",
       "</tr>\n",
       "<tr>\n",
       "  <th>Date:</th>            <td>Sun, 21 Jan 2024</td> <th>  AIC                </th> <td>6946.213</td> \n",
       "</tr>\n",
       "<tr>\n",
       "  <th>Time:</th>                <td>11:10:11</td>     <th>  BIC                </th> <td>6966.765</td> \n",
       "</tr>\n",
       "<tr>\n",
       "  <th>Sample:</th>             <td>01-02-2018</td>    <th>  HQIC               </th> <td>6953.936</td> \n",
       "</tr>\n",
       "<tr>\n",
       "  <th></th>                   <td>- 12-30-2022</td>   <th>                     </th>     <td> </td>    \n",
       "</tr>\n",
       "<tr>\n",
       "  <th>Covariance Type:</th>        <td>opg</td>       <th>                     </th>     <td> </td>    \n",
       "</tr>\n",
       "</table>\n",
       "<table class=\"simpletable\">\n",
       "<tr>\n",
       "     <td></td>       <th>coef</th>     <th>std err</th>      <th>z</th>      <th>P>|z|</th>  <th>[0.025</th>    <th>0.975]</th>  \n",
       "</tr>\n",
       "<tr>\n",
       "  <th>const</th>  <td>  188.1647</td> <td>   52.297</td> <td>    3.598</td> <td> 0.000</td> <td>   85.665</td> <td>  290.665</td>\n",
       "</tr>\n",
       "<tr>\n",
       "  <th>ar.L1</th>  <td>    0.8754</td> <td>    0.018</td> <td>   48.492</td> <td> 0.000</td> <td>    0.840</td> <td>    0.911</td>\n",
       "</tr>\n",
       "<tr>\n",
       "  <th>ar.L2</th>  <td>    0.1236</td> <td>    0.018</td> <td>    6.875</td> <td> 0.000</td> <td>    0.088</td> <td>    0.159</td>\n",
       "</tr>\n",
       "<tr>\n",
       "  <th>sigma2</th> <td>   14.4134</td> <td>    0.362</td> <td>   39.788</td> <td> 0.000</td> <td>   13.703</td> <td>   15.123</td>\n",
       "</tr>\n",
       "</table>\n",
       "<table class=\"simpletable\">\n",
       "<tr>\n",
       "  <th>Ljung-Box (L1) (Q):</th>     <td>0.01</td> <th>  Jarque-Bera (JB):  </th> <td>663.40</td>\n",
       "</tr>\n",
       "<tr>\n",
       "  <th>Prob(Q):</th>                <td>0.92</td> <th>  Prob(JB):          </th>  <td>0.00</td> \n",
       "</tr>\n",
       "<tr>\n",
       "  <th>Heteroskedasticity (H):</th> <td>9.48</td> <th>  Skew:              </th>  <td>-0.28</td>\n",
       "</tr>\n",
       "<tr>\n",
       "  <th>Prob(H) (two-sided):</th>    <td>0.00</td> <th>  Kurtosis:          </th>  <td>6.51</td> \n",
       "</tr>\n",
       "</table><br/><br/>Warnings:<br/>[1] Covariance matrix calculated using the outer product of gradients (complex-step)."
      ],
      "text/latex": [
       "\\begin{center}\n",
       "\\begin{tabular}{lclc}\n",
       "\\toprule\n",
       "\\textbf{Dep. Variable:}          &    Adj Close     & \\textbf{  No. Observations:  } &    1259     \\\\\n",
       "\\textbf{Model:}                  &  ARIMA(2, 0, 0)  & \\textbf{  Log Likelihood     } & -3469.106   \\\\\n",
       "\\textbf{Date:}                   & Sun, 21 Jan 2024 & \\textbf{  AIC                } &  6946.213   \\\\\n",
       "\\textbf{Time:}                   &     11:10:11     & \\textbf{  BIC                } &  6966.765   \\\\\n",
       "\\textbf{Sample:}                 &    01-02-2018    & \\textbf{  HQIC               } &  6953.936   \\\\\n",
       "\\textbf{}                        &   - 12-30-2022   & \\textbf{                     } &             \\\\\n",
       "\\textbf{Covariance Type:}        &       opg        & \\textbf{                     } &             \\\\\n",
       "\\bottomrule\n",
       "\\end{tabular}\n",
       "\\begin{tabular}{lcccccc}\n",
       "                & \\textbf{coef} & \\textbf{std err} & \\textbf{z} & \\textbf{P$> |$z$|$} & \\textbf{[0.025} & \\textbf{0.975]}  \\\\\n",
       "\\midrule\n",
       "\\textbf{const}  &     188.1647  &       52.297     &     3.598  &         0.000        &       85.665    &      290.665     \\\\\n",
       "\\textbf{ar.L1}  &       0.8754  &        0.018     &    48.492  &         0.000        &        0.840    &        0.911     \\\\\n",
       "\\textbf{ar.L2}  &       0.1236  &        0.018     &     6.875  &         0.000        &        0.088    &        0.159     \\\\\n",
       "\\textbf{sigma2} &      14.4134  &        0.362     &    39.788  &         0.000        &       13.703    &       15.123     \\\\\n",
       "\\bottomrule\n",
       "\\end{tabular}\n",
       "\\begin{tabular}{lclc}\n",
       "\\textbf{Ljung-Box (L1) (Q):}     & 0.01 & \\textbf{  Jarque-Bera (JB):  } & 663.40  \\\\\n",
       "\\textbf{Prob(Q):}                & 0.92 & \\textbf{  Prob(JB):          } &  0.00   \\\\\n",
       "\\textbf{Heteroskedasticity (H):} & 9.48 & \\textbf{  Skew:              } & -0.28   \\\\\n",
       "\\textbf{Prob(H) (two-sided):}    & 0.00 & \\textbf{  Kurtosis:          } &  6.51   \\\\\n",
       "\\bottomrule\n",
       "\\end{tabular}\n",
       "%\\caption{SARIMAX Results}\n",
       "\\end{center}\n",
       "\n",
       "Warnings: \\newline\n",
       " [1] Covariance matrix calculated using the outer product of gradients (complex-step)."
      ],
      "text/plain": [
       "<class 'statsmodels.iolib.summary.Summary'>\n",
       "\"\"\"\n",
       "                               SARIMAX Results                                \n",
       "==============================================================================\n",
       "Dep. Variable:              Adj Close   No. Observations:                 1259\n",
       "Model:                 ARIMA(2, 0, 0)   Log Likelihood               -3469.106\n",
       "Date:                Sun, 21 Jan 2024   AIC                           6946.213\n",
       "Time:                        11:10:11   BIC                           6966.765\n",
       "Sample:                    01-02-2018   HQIC                          6953.936\n",
       "                         - 12-30-2022                                         \n",
       "Covariance Type:                  opg                                         \n",
       "==============================================================================\n",
       "                 coef    std err          z      P>|z|      [0.025      0.975]\n",
       "------------------------------------------------------------------------------\n",
       "const        188.1647     52.297      3.598      0.000      85.665     290.665\n",
       "ar.L1          0.8754      0.018     48.492      0.000       0.840       0.911\n",
       "ar.L2          0.1236      0.018      6.875      0.000       0.088       0.159\n",
       "sigma2        14.4134      0.362     39.788      0.000      13.703      15.123\n",
       "===================================================================================\n",
       "Ljung-Box (L1) (Q):                   0.01   Jarque-Bera (JB):               663.40\n",
       "Prob(Q):                              0.92   Prob(JB):                         0.00\n",
       "Heteroskedasticity (H):               9.48   Skew:                            -0.28\n",
       "Prob(H) (two-sided):                  0.00   Kurtosis:                         6.51\n",
       "===================================================================================\n",
       "\n",
       "Warnings:\n",
       "[1] Covariance matrix calculated using the outer product of gradients (complex-step).\n",
       "\"\"\""
      ]
     },
     "execution_count": 72,
     "metadata": {},
     "output_type": "execute_result"
    }
   ],
   "source": [
    "model_ar_2 = ARIMA(df[\"Adj Close\"], order =(2,0,0))\n",
    "\n",
    "results_ar_2 =model_ar_2.fit()\n",
    "\n",
    "results_ar_2.summary()"
   ]
  },
  {
   "cell_type": "markdown",
   "id": "34558f6b-9025-4715-a052-09417fd5a31f",
   "metadata": {},
   "source": [
    "# LLR (Log Likelyhood Ratio) Test"
   ]
  },
  {
   "cell_type": "code",
   "execution_count": 73,
   "id": "d578fc42-8c03-413f-b38b-6fbbf49cd670",
   "metadata": {},
   "outputs": [],
   "source": [
    "# I define the function:\n",
    "\n",
    "def LLR_test(mod_1, mod_2, DF=1):\n",
    "    L1 = mod_1.fit().llf\n",
    "    L2 = mod_2.fit().llf\n",
    "    LR = (2*(L2-L1))\n",
    "    p = chi2.sf(LR, DF).round(3)\n",
    "    return p\n",
    "\n",
    "\n",
    "\n",
    "\n",
    "# mod_1 and mod_2 are the models to compare.\n",
    "# DF corresponds to the degrees of freedom."
   ]
  },
  {
   "cell_type": "markdown",
   "id": "4de8d6a0-a298-407c-b3cb-86a0fe7e143b",
   "metadata": {},
   "source": [
    "What  the test does is to evaluate the null hypothesis that states that the Log Likelihood value of the 2 models is equal. Ifthe p-value is lower than the critical value, we reject the null hypothesis of equality, and there is a significant difference between the model Log Likelihood.\n",
    "#### Note: it isimportant to put always the simpler model first"
   ]
  },
  {
   "cell_type": "code",
   "execution_count": 76,
   "id": "cf26db6b-ac41-4396-8dca-93394dc6e7a4",
   "metadata": {},
   "outputs": [
    {
     "data": {
      "text/plain": [
       "0.0"
      ]
     },
     "execution_count": 76,
     "metadata": {},
     "output_type": "execute_result"
    }
   ],
   "source": [
    "LLR_test(model_ar_1, model_ar_2)\n",
    "\n",
    "#In this case we reject the null hypothesis of equality, the model have different Log-Likelyhood ratios"
   ]
  }
 ],
 "metadata": {
  "kernelspec": {
   "display_name": "Python 3 (ipykernel)",
   "language": "python",
   "name": "python3"
  },
  "language_info": {
   "codemirror_mode": {
    "name": "ipython",
    "version": 3
   },
   "file_extension": ".py",
   "mimetype": "text/x-python",
   "name": "python",
   "nbconvert_exporter": "python",
   "pygments_lexer": "ipython3",
   "version": "3.9.12"
  }
 },
 "nbformat": 4,
 "nbformat_minor": 5
}
